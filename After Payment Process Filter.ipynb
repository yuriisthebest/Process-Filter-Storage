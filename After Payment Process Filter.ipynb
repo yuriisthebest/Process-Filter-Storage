{
 "cells": [
  {
   "cell_type": "code",
   "execution_count": null,
   "metadata": {},
   "outputs": [],
   "source": [
    "import pm4py\n",
    "from pm4py.objects.log.importer.xes import factory as xes_importer\n",
    "from pm4py.objects.log.exporter.xes import factory as xes_exporter\n",
    "import copy"
   ]
  },
  {
   "cell_type": "code",
   "execution_count": null,
   "metadata": {},
   "outputs": [],
   "source": [
    "name = \"BPI_Challenge_2018_noidtag_10percent.xes\"\n",
    "name"
   ]
  },
  {
   "cell_type": "code",
   "execution_count": null,
   "metadata": {},
   "outputs": [],
   "source": [
    "log = xes_importer.import_log(name)\n",
    "len(log)"
   ]
  },
  {
   "cell_type": "code",
   "execution_count": null,
   "metadata": {},
   "outputs": [],
   "source": [
    "def filter_log(trace):\n",
    "    trace_start = True\n",
    "    new_trace1 = copy.deepcopy(trace)\n",
    "    for i in range(len(new_trace1)):\n",
    "        new_trace1[i] = pm4py.objects.log.log.Event()\n",
    "    \n",
    "    for i in range(len(trace)):\n",
    "        if trace_start and trace[i]['concept:name'] == 'finish payment':\n",
    "            trace_start = False\n",
    "            new_trace1[i] = trace[i]\n",
    "        elif trace_start:\n",
    "            new_trace1[i] = trace[i]\n",
    "        else:\n",
    "            new_trace1[i] = trace[i]\n",
    "            new_trace1[i]['concept:name'] += \" 2\"\n",
    "            new_trace1[i]['activity'] += \" 2\"\n",
    "    return new_trace1\n",
    "\n",
    "def iterate_log(log):\n",
    "    result = log\n",
    "    for log_nr in range(len(log)):\n",
    "        result[log_nr] = filter_log(log[log_nr])\n",
    "    return result"
   ]
  },
  {
   "cell_type": "code",
   "execution_count": null,
   "metadata": {},
   "outputs": [],
   "source": [
    "new_log = iterate_log(log)"
   ]
  },
  {
   "cell_type": "code",
   "execution_count": null,
   "metadata": {},
   "outputs": [],
   "source": [
    "xes_exporter.export_log(new_log, 'after_payment.xes')"
   ]
  }
 ],
 "metadata": {
  "kernelspec": {
   "display_name": "Python 3",
   "language": "python",
   "name": "python3"
  },
  "language_info": {
   "codemirror_mode": {
    "name": "ipython",
    "version": 3
   },
   "file_extension": ".py",
   "mimetype": "text/x-python",
   "name": "python",
   "nbconvert_exporter": "python",
   "pygments_lexer": "ipython3",
   "version": "3.6.8"
  }
 },
 "nbformat": 4,
 "nbformat_minor": 2
}
